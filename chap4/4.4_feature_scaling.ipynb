{
 "cells": [
  {
   "cell_type": "code",
   "execution_count": 1,
   "metadata": {
    "collapsed": true
   },
   "outputs": [],
   "source": [
    "import pandas as pd\n",
    "import numpy as np\n",
    "\n",
    "df_wine = pd.read_csv('https://archive.ics.uci.edu/ml/machine-learning-databases/wine/wine.data',header=None)\n",
    "df_wine.columns = ['Class label', 'Alcohol', 'Maric acid', 'Ash', 'Alcalinity of ash','Magnesium',\n",
    "                   'Total phenols','Flavanoids','Nonflavanoid phenols', 'Proanthocyanins', 'Color intensity',\n",
    "                   'Hue','OD280/OD315 of diluted wines', 'Proline']\n",
    "\n",
    "from sklearn.model_selection import train_test_split\n",
    "X,y = df_wine.iloc[:, 1:].values, df_wine.iloc[:,0].values\n",
    "X_train, X_test, y_train, y_test = train_test_split(X,y, test_size=0.3,random_state=0)"
   ]
  },
  {
   "cell_type": "code",
   "execution_count": 2,
   "metadata": {
    "collapsed": false
   },
   "outputs": [
    {
     "name": "stdout",
     "output_type": "stream",
     "text": [
      "トレーニングデータ\n",
      "[[  1.37100000e+01   1.86000000e+00   2.36000000e+00 ...,   1.11000000e+00\n",
      "    4.00000000e+00   1.03500000e+03]\n",
      " [  1.22200000e+01   1.29000000e+00   1.94000000e+00 ...,   8.60000000e-01\n",
      "    3.02000000e+00   3.12000000e+02]\n",
      " [  1.32700000e+01   4.28000000e+00   2.26000000e+00 ...,   5.90000000e-01\n",
      "    1.56000000e+00   8.35000000e+02]\n",
      " ..., \n",
      " [  1.24200000e+01   1.61000000e+00   2.19000000e+00 ...,   1.06000000e+00\n",
      "    2.96000000e+00   3.45000000e+02]\n",
      " [  1.39000000e+01   1.68000000e+00   2.12000000e+00 ...,   9.10000000e-01\n",
      "    3.33000000e+00   9.85000000e+02]\n",
      " [  1.41600000e+01   2.51000000e+00   2.48000000e+00 ...,   6.20000000e-01\n",
      "    1.71000000e+00   6.60000000e+02]]\n",
      "min max scaling\n",
      "[[ 0.72043011  0.20378151  0.53763441 ...,  0.48717949  1.          0.5854251 ]\n",
      " [ 0.31989247  0.08403361  0.31182796 ...,  0.27350427  0.64102564  0.        ]\n",
      " [ 0.60215054  0.71218487  0.48387097 ...,  0.04273504  0.10622711\n",
      "   0.42348178]\n",
      " ..., \n",
      " [ 0.37365591  0.1512605   0.44623656 ...,  0.44444444  0.61904762\n",
      "   0.02672065]\n",
      " [ 0.77150538  0.16596639  0.40860215 ...,  0.31623932  0.75457875\n",
      "   0.54493927]\n",
      " [ 0.84139785  0.34033613  0.60215054 ...,  0.06837607  0.16117216\n",
      "   0.28178138]]\n"
     ]
    }
   ],
   "source": [
    "# 正規化\n",
    "from sklearn.preprocessing import MinMaxScaler\n",
    "\n",
    "mms = MinMaxScaler()\n",
    "X_train_norm = mms.fit_transform(X_train)\n",
    "X_test_norm = mms.fit_transform(X_test)\n",
    "\n",
    "print('トレーニングデータ')\n",
    "print(X_train)\n",
    "print('min max scaling')\n",
    "print(X_train_norm)"
   ]
  },
  {
   "cell_type": "code",
   "execution_count": 3,
   "metadata": {
    "collapsed": false
   },
   "outputs": [
    {
     "name": "stdout",
     "output_type": "stream",
     "text": [
      "トレーニングデータ\n",
      "[[  1.37100000e+01   1.86000000e+00   2.36000000e+00 ...,   1.11000000e+00\n",
      "    4.00000000e+00   1.03500000e+03]\n",
      " [  1.22200000e+01   1.29000000e+00   1.94000000e+00 ...,   8.60000000e-01\n",
      "    3.02000000e+00   3.12000000e+02]\n",
      " [  1.32700000e+01   4.28000000e+00   2.26000000e+00 ...,   5.90000000e-01\n",
      "    1.56000000e+00   8.35000000e+02]\n",
      " ..., \n",
      " [  1.24200000e+01   1.61000000e+00   2.19000000e+00 ...,   1.06000000e+00\n",
      "    2.96000000e+00   3.45000000e+02]\n",
      " [  1.39000000e+01   1.68000000e+00   2.12000000e+00 ...,   9.10000000e-01\n",
      "    3.33000000e+00   9.85000000e+02]\n",
      " [  1.41600000e+01   2.51000000e+00   2.48000000e+00 ...,   6.20000000e-01\n",
      "    1.71000000e+00   6.60000000e+02]]\n",
      "標準化\n",
      "[[ 0.91083058 -0.46259897 -0.01142613 ...,  0.65706596  1.94354495\n",
      "   0.93700997]\n",
      " [-0.95609928 -0.96608672 -1.53725357 ..., -0.40859506  0.58118003\n",
      "  -1.41336684]\n",
      " [ 0.35952243  1.67501572 -0.37471838 ..., -1.55950896 -1.44846566\n",
      "   0.28683658]\n",
      " ..., \n",
      " [-0.70550467 -0.68342693 -0.62902295 ...,  0.44393375  0.49776993\n",
      "  -1.30608823]\n",
      " [ 1.14889546 -0.6215951  -0.88332752 ..., -0.19546286  1.0121322\n",
      "   0.77446662]\n",
      " [ 1.47466845  0.11155374  0.42452457 ..., -1.43162964 -1.23994042\n",
      "  -0.28206514]]\n"
     ]
    }
   ],
   "source": [
    "# 標準化\n",
    "from sklearn.preprocessing import StandardScaler\n",
    "\n",
    "stdsc = StandardScaler()\n",
    "X_train_std = stdsc.fit_transform(X_train)\n",
    "X_test_std = stdsc.fit_transform(X_test)\n",
    "\n",
    "print('トレーニングデータ')\n",
    "print(X_train)\n",
    "print('標準化')\n",
    "print(X_train_std)"
   ]
  },
  {
   "cell_type": "code",
   "execution_count": null,
   "metadata": {
    "collapsed": true
   },
   "outputs": [],
   "source": []
  }
 ],
 "metadata": {
  "kernelspec": {
   "display_name": "Python 3",
   "language": "python",
   "name": "python3"
  },
  "language_info": {
   "codemirror_mode": {
    "name": "ipython",
    "version": 3
   },
   "file_extension": ".py",
   "mimetype": "text/x-python",
   "name": "python",
   "nbconvert_exporter": "python",
   "pygments_lexer": "ipython3",
   "version": "3.5.2"
  }
 },
 "nbformat": 4,
 "nbformat_minor": 1
}
