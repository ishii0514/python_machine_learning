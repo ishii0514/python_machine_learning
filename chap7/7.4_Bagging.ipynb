{
 "cells": [
  {
   "cell_type": "code",
   "execution_count": 5,
   "metadata": {
    "collapsed": false
   },
   "outputs": [],
   "source": [
    "import pandas as pd\n",
    "df_wine = pd.read_csv('https://archive.ics.uci.edu/ml/machine-learning-databases/wine/wine.data',header=None)\n",
    "df_wine.columns = ['Class label', 'Alcohol', 'Maric acid', 'Ash', 'Alcalinity of ash','Magnesium',\n",
    "                   'Total phenols','Flavanoids','Nonflavanoid phenols', 'Proanthocyanins', 'Color intensity',\n",
    "                   'Hue','OD280/OD315 of diluted wines', 'Proline']\n",
    "df_wine = df_wine[df_wine['Class label'] != 1]\n",
    "y = df_wine['Class label'].values\n",
    "X = df_wine[['Alcohol', 'Hue']].values\n"
   ]
  },
  {
   "cell_type": "code",
   "execution_count": 6,
   "metadata": {
    "collapsed": false
   },
   "outputs": [],
   "source": [
    "from sklearn.preprocessing import LabelEncoder\n",
    "from sklearn.model_selection import train_test_split\n",
    "\n",
    "le = LabelEncoder()\n",
    "y = le.fit_transform(y)\n",
    "X_train, X_test, y_train,y_test = train_test_split(X, y , test_size=0.40, random_state=1)"
   ]
  },
  {
   "cell_type": "code",
   "execution_count": 9,
   "metadata": {
    "collapsed": false
   },
   "outputs": [
    {
     "name": "stdout",
     "output_type": "stream",
     "text": [
      "Decision tree train/test accuracies 1.000/0.833\n"
     ]
    }
   ],
   "source": [
    "from sklearn.ensemble import BaggingClassifier\n",
    "from sklearn.tree import DecisionTreeClassifier\n",
    "\n",
    "tree = DecisionTreeClassifier(criterion='entropy',max_depth=None,random_state=1)\n",
    "bag = BaggingClassifier(base_estimator=tree,n_estimators=500, max_samples=1.0,max_features=1.0, bootstrap=True,bootstrap_features=False,n_jobs=1,random_state=1)\n",
    "\n",
    "from sklearn.metrics import accuracy_score\n",
    "tree = tree.fit(X_train ,y_train)\n",
    "y_train_pred = tree.predict(X_train)\n",
    "y_test_pred = tree.predict(X_test)\n",
    "\n",
    "tree_train = accuracy_score(y_train, y_train_pred)\n",
    "tree_test = accuracy_score(y_test, y_test_pred)\n",
    "print('Decision tree train/test accuracies %.3f/%.3f' % (tree_train, tree_test))"
   ]
  },
  {
   "cell_type": "code",
   "execution_count": 10,
   "metadata": {
    "collapsed": false
   },
   "outputs": [
    {
     "name": "stdout",
     "output_type": "stream",
     "text": [
      "Bagging train/test accuracies 1.000/0.896\n"
     ]
    }
   ],
   "source": [
    "bag = bag.fit(X_train ,y_train)\n",
    "\n",
    "y_train_pred = bag.predict(X_train)\n",
    "y_test_pred = bag.predict(X_test)\n",
    "\n",
    "tree_train = accuracy_score(y_train, y_train_pred)\n",
    "tree_test = accuracy_score(y_test, y_test_pred)\n",
    "print('Bagging train/test accuracies %.3f/%.3f' % (tree_train, tree_test))"
   ]
  },
  {
   "cell_type": "code",
   "execution_count": 12,
   "metadata": {
    "collapsed": false
   },
   "outputs": [
    {
     "data": {
      "image/png": "[encoded data removed]",
      "text/plain": [
       "<matplotlib.figure.Figure at 0x10c643978>"
      ]
     },
     "metadata": {},
     "output_type": "display_data"
    }
   ],
   "source": [
    "import matplotlib.pyplot as plt\n",
    "import numpy as np\n",
    "\n",
    "x_min = X_train[:,0].min()-1\n",
    "x_max = X_train[:,0].max()+1\n",
    "y_min = X_train[:,1].min()-1\n",
    "y_max = X_train[:,1].max()+1\n",
    "\n",
    "xx,yy = np.meshgrid(np.arange(x_min,x_max, 0.1), np.arange(y_min, y_max, 0.1))\n",
    "f, axarr =plt.subplots(nrows=1, ncols=2,sharex='col',sharey='row', figsize=(8,3))\n",
    "\n",
    "for idx, clf, tt in zip([0,1], [tree,bag], ['Decision Tree', 'Bagging']):\n",
    "    clf.fit(X_train,y_train)\n",
    "    Z= clf.predict(np.c_[xx.ravel(), yy.ravel()])\n",
    "    Z = Z.reshape(xx.shape)\n",
    "    axarr[idx].contourf(xx, yy, Z, alpha=0.3)\n",
    "    axarr[idx].scatter(X_train[y_train==0,0],X_train[y_train==0,1], c='blue', marker='^')\n",
    "    axarr[idx].scatter(X_train[y_train==1,0],X_train[y_train==1,1], c='red', marker='o')\n",
    "    axarr[idx].set_title(tt)\n",
    "\n",
    "axarr[0].set_ylabel('Alcohol', fontsize=12)\n",
    "plt.text(10.2, -1.2, s='Hue',ha='center', va='center', fontsize=12)\n",
    "plt.show()"
   ]
  },
  {
   "cell_type": "code",
   "execution_count": null,
   "metadata": {
    "collapsed": true
   },
   "outputs": [],
   "source": []
  }
 ],
 "metadata": {
  "kernelspec": {
   "display_name": "Python 3",
   "language": "python",
   "name": "python3"
  },
  "language_info": {
   "codemirror_mode": {
    "name": "ipython",
    "version": 3
   },
   "file_extension": ".py",
   "mimetype": "text/x-python",
   "name": "python",
   "nbconvert_exporter": "python",
   "pygments_lexer": "ipython3",
   "version": "3.5.2"
  }
 },
 "nbformat": 4,
 "nbformat_minor": 1
}
