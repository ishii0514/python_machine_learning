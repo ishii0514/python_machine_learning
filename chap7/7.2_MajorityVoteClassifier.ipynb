{
 "cells": [
  {
   "cell_type": "code",
   "execution_count": 13,
   "metadata": {
    "collapsed": false
   },
   "outputs": [
    {
     "name": "stdout",
     "output_type": "stream",
     "text": [
      "1\n",
      "[ 0.58  0.42]\n",
      "0\n"
     ]
    }
   ],
   "source": [
    "import numpy as np\n",
    "print(np.argmax(np.bincount([0,0,1],weights=[0.2,0.2,0.6])))\n",
    "\n",
    "ex = np.array([[0.9,0.1],\n",
    "               [0.8,0.2],\n",
    "               [0.4,0.6]])\n",
    "p = np.average(ex, axis=0,weights=[0.2,0.2,0.6])\n",
    "print(p)\n",
    "print(np.argmax(p))"
   ]
  },
  {
   "cell_type": "code",
   "execution_count": 14,
   "metadata": {
    "collapsed": false
   },
   "outputs": [
    {
     "name": "stdout",
     "output_type": "stream",
     "text": [
      "[2 0 1]\n",
      "[ 0.4  0.6]\n",
      "[ 0.4  0.   1.1]\n"
     ]
    }
   ],
   "source": [
    "# お試し\n",
    "print(np.bincount([0,0,2]))\n",
    "print(np.bincount([0,0,1],weights=[0.2,0.2,0.6]))\n",
    "print(np.bincount([0,0,2,2],weights=[0.2,0.2,0.6,0.5]))"
   ]
  },
  {
   "cell_type": "code",
   "execution_count": null,
   "metadata": {
    "collapsed": true
   },
   "outputs": [],
   "source": []
  }
 ],
 "metadata": {
  "kernelspec": {
   "display_name": "Python 3",
   "language": "python",
   "name": "python3"
  },
  "language_info": {
   "codemirror_mode": {
    "name": "ipython",
    "version": 3
   },
   "file_extension": ".py",
   "mimetype": "text/x-python",
   "name": "python",
   "nbconvert_exporter": "python",
   "pygments_lexer": "ipython3",
   "version": "3.5.2"
  }
 },
 "nbformat": 4,
 "nbformat_minor": 1
}
