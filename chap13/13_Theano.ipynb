{
 "cells": [
  {
   "cell_type": "code",
   "execution_count": 2,
   "metadata": {
    "collapsed": false
   },
   "outputs": [
    {
     "name": "stdout",
     "output_type": "stream",
     "text": [
      "Net input: 2.50\n"
     ]
    }
   ],
   "source": [
    "import theano\n",
    "from theano import tensor as T\n",
    "\n",
    "x1 = T.scalar()\n",
    "w1 = T.scalar()\n",
    "w0 = T.scalar()\n",
    "z1 = w1 * x1 + w0\n",
    "\n",
    "net_input = theano.function(inputs=[w1, x1, w0], outputs=z1)\n",
    "print('Net input: %.2f' % net_input(2.0, 1.0, 0.5))"
   ]
  },
  {
   "cell_type": "code",
   "execution_count": 3,
   "metadata": {
    "collapsed": false
   },
   "outputs": [
    {
     "name": "stdout",
     "output_type": "stream",
     "text": [
      "float64\n",
      "float32\n"
     ]
    }
   ],
   "source": [
    "print(theano.config.floatX)\n",
    "theano.config.floatX = 'float32'\n",
    "print(theano.config.floatX)"
   ]
  },
  {
   "cell_type": "code",
   "execution_count": 4,
   "metadata": {
    "collapsed": false
   },
   "outputs": [
    {
     "name": "stdout",
     "output_type": "stream",
     "text": [
      "cpu\n"
     ]
    }
   ],
   "source": [
    "# 実行デバイスを切り替え可能\n",
    "print(theano.config.device)"
   ]
  },
  {
   "cell_type": "code",
   "execution_count": 5,
   "metadata": {
    "collapsed": false
   },
   "outputs": [
    {
     "name": "stdout",
     "output_type": "stream",
     "text": [
      "Column sum: [ 2.  4.  6.]\n",
      "Column sum: [ 2.  4.  6.]\n"
     ]
    }
   ],
   "source": [
    "import numpy as np\n",
    "\n",
    "x = T.fmatrix(name='x')\n",
    "x_sum = T.sum(x, axis=0)\n",
    "\n",
    "calc_sum = theano.function(inputs=[x], outputs=x_sum)\n",
    "ary = [[1,2,3],[1,2,3]]\n",
    "print('Column sum:', calc_sum(ary))\n",
    "\n",
    "ary = np.array([[1,2,3],[1,2,3]], dtype=theano.config.floatX)\n",
    "print('Column sum:', calc_sum(ary))"
   ]
  },
  {
   "cell_type": "code",
   "execution_count": 6,
   "metadata": {
    "collapsed": false
   },
   "outputs": [
    {
     "name": "stdout",
     "output_type": "stream",
     "text": [
      "z0: [[ 0.]]\n",
      "z1: [[ 6.]]\n",
      "z2: [[ 12.]]\n",
      "z3: [[ 18.]]\n",
      "z4: [[ 24.]]\n"
     ]
    }
   ],
   "source": [
    "x = T.fmatrix('x')\n",
    "w = theano.shared(np.asarray([[0.0,0.0,0.0]], dtype=theano.config.floatX))\n",
    "z = x.dot(w.T)\n",
    "\n",
    "update = [[w, w+1.0]]\n",
    "\n",
    "net_input = theano.function(inputs=[x], updates=update, outputs=z)\n",
    "\n",
    "data = np.array([[1,2,3]], dtype=theano.config.floatX)\n",
    "for i in range(5):\n",
    "    print('z%d:' % i, net_input(data))\n"
   ]
  },
  {
   "cell_type": "code",
   "execution_count": 7,
   "metadata": {
    "collapsed": false
   },
   "outputs": [
    {
     "name": "stdout",
     "output_type": "stream",
     "text": [
      "z0: [[ 0.]]\n",
      "z1: [[ 6.]]\n",
      "z2: [[ 12.]]\n",
      "z3: [[ 18.]]\n",
      "z4: [[ 24.]]\n"
     ]
    }
   ],
   "source": [
    "data = np.array([[1,2,3]], dtype=theano.config.floatX)\n",
    "x = T.fmatrix('x')\n",
    "w = theano.shared(np.asarray([[0.0, 0.0,0.0]], dtype=theano.config.floatX))\n",
    "z = x.dot(w.T)\n",
    "update = [[w, w +1.0]]\n",
    "\n",
    "net_input = theano.function(inputs=[], updates=update, givens={x: data}, outputs=z)\n",
    "\n",
    "data = np.array([[1,2,3]], dtype=theano.config.floatX)\n",
    "for i in range(5):\n",
    "    print('z%d:' % i, net_input())"
   ]
  },
  {
   "cell_type": "code",
   "execution_count": 8,
   "metadata": {
    "collapsed": true
   },
   "outputs": [],
   "source": [
    "X_train = np.asarray([\n",
    "        [0.0],[1.0],\n",
    "        [2.0],[3.0],\n",
    "        [4.0],[5.0],\n",
    "        [6.0],[7.0],\n",
    "        [8.0],[9.0]],\n",
    "                    dtype=theano.config.floatX)\n",
    "y_train = np.asarray([\n",
    "        1.0,1.3,\n",
    "        3.1,2.0,\n",
    "        5.0,6.3,\n",
    "        6.6,7.4,\n",
    "        8.0,9.0],\n",
    "                    dtype=theano.config.floatX)\n"
   ]
  },
  {
   "cell_type": "code",
   "execution_count": 9,
   "metadata": {
    "collapsed": true
   },
   "outputs": [],
   "source": [
    "import theano\n",
    "from theano import tensor as T\n",
    "import numpy as np\n",
    "\n",
    "def  train_linreg(X_train, y_train, eta, epochs):\n",
    "    costs = []\n",
    "    eta0 = T.fscalar('eta0')\n",
    "    y = T.fvector(name='y')\n",
    "    X = T.fmatrix(name='x')\n",
    "    w = theano.shared(np.zeros(shape=(X_train.shape[1] + 1),dtype=theano.config.floatX),name='w')\n",
    "    \n",
    "    net_input = T.dot(X, w[1:]) + w[0]\n",
    "    errors = y - net_input\n",
    "    cost = T.sum(T.pow(errors,2))\n",
    "    \n",
    "    gradient = T.grad(cost, wrt=w)\n",
    "    update = [(w, w-eta0* gradient)]\n",
    "    \n",
    "    train = theano.function(inputs=[eta0], outputs=cost, updates=update, givens={X:X_train, y:y_train})\n",
    "    for _ in range(epochs):\n",
    "        costs.append(train(eta))\n",
    "    return costs, w"
   ]
  },
  {
   "cell_type": "code",
   "execution_count": 10,
   "metadata": {
    "collapsed": false
   },
   "outputs": [
    {
     "data": {
      "image/png": "[encoded data removed]",
      "text/plain": [
       "<matplotlib.figure.Figure at 0x10b1b0d30>"
      ]
     },
     "metadata": {},
     "output_type": "display_data"
    }
   ],
   "source": [
    "import matplotlib.pyplot as plt\n",
    "\n",
    "costs, w = train_linreg(X_train, y_train, eta=0.001, epochs=10)\n",
    "\n",
    "plt.plot(range(1, len(costs)+1), costs)\n",
    "plt.xlabel('Epoch')\n",
    "plt.ylabel('Cost')\n",
    "plt.tight_layout()\n",
    "plt.show()"
   ]
  },
  {
   "cell_type": "code",
   "execution_count": 11,
   "metadata": {
    "collapsed": true
   },
   "outputs": [],
   "source": [
    "def predict_linreg(X, w):\n",
    "    Xt = T.matrix(name='X')\n",
    "    net_input = T.dot(Xt, w[1:]) + w[0]\n",
    "    predict = theano.function(inputs=[Xt], givens={w: w}, outputs=net_input)\n",
    "    return predict(X)"
   ]
  },
  {
   "cell_type": "code",
   "execution_count": 12,
   "metadata": {
    "collapsed": false
   },
   "outputs": [
    {
     "data": {
      "image/png": "[encoded data removed]",
      "text/plain": [
       "<matplotlib.figure.Figure at 0x1078310f0>"
      ]
     },
     "metadata": {},
     "output_type": "display_data"
    }
   ],
   "source": [
    "plt.scatter(X_train, y_train, marker='s', s=50)\n",
    "plt.plot(range(X_train.shape[0]), predict_linreg(X_train, w),color='gray', marker='o', markersize=4,linewidth=3)\n",
    "plt.xlabel('x')\n",
    "plt.ylabel('y')\n",
    "plt.show()"
   ]
  },
  {
   "cell_type": "markdown",
   "metadata": {},
   "source": [
    "## 13.2"
   ]
  },
  {
   "cell_type": "code",
   "execution_count": 13,
   "metadata": {
    "collapsed": false
   },
   "outputs": [
    {
     "name": "stdout",
     "output_type": "stream",
     "text": [
      "P(y=1|x) = 0.707\n"
     ]
    }
   ],
   "source": [
    "X = np.array([[1,1.4,1.5]])\n",
    "w = np.array([0.0, 0.2, 0.4])\n",
    "def net_input(X, w):\n",
    "    z = X.dot(w)\n",
    "    return z\n",
    "\n",
    "def logistic(z):\n",
    "    return 1.0 / (1.0 + np.exp(-z))\n",
    "\n",
    "def logistic_activation(X, w):\n",
    "    z = net_input(X, w)\n",
    "    return logistic(z)\n",
    "\n",
    "print('P(y=1|x) = %.3f' % logistic_activation(X, w)[0])\n"
   ]
  },
  {
   "cell_type": "code",
   "execution_count": 14,
   "metadata": {
    "collapsed": false
   },
   "outputs": [
    {
     "name": "stdout",
     "output_type": "stream",
     "text": [
      "Prbablilities:\n",
      " [[ 0.87653295]\n",
      " [ 0.57688526]\n",
      " [ 0.90114393]]\n",
      "predicted class label: 2\n"
     ]
    }
   ],
   "source": [
    "W = np.array([[1.1, 1.2, 1.3, 0.5],\n",
    "             [0.1,0.2,0.4,0.1],\n",
    "             [0.2,0.5,2.1,1.9]])\n",
    "\n",
    "A = np.array([[1.0],\n",
    "              [0.1],\n",
    "              [0.3],\n",
    "              [0.7]])\n",
    "\n",
    "Z = W.dot(A)\n",
    "y_probas = logistic(Z)\n",
    "print('Prbablilities:\\n', y_probas)\n",
    "y_class = np.argmax(Z, axis=0)\n",
    "print('predicted class label: %d' % y_class[0])\n"
   ]
  },
  {
   "cell_type": "code",
   "execution_count": 15,
   "metadata": {
    "collapsed": false
   },
   "outputs": [
    {
     "name": "stdout",
     "output_type": "stream",
     "text": [
      "Probabilities:\n",
      " [[ 0.40386493]\n",
      " [ 0.07756222]\n",
      " [ 0.51857284]]\n",
      "y_probas.sum: 1.0\n",
      "Z:\n",
      " [[ 1.96]\n",
      " [ 0.31]\n",
      " [ 2.21]]\n"
     ]
    }
   ],
   "source": [
    "def softmax(z):\n",
    "    return np.exp(z) / np.sum(np.exp(z))\n",
    "\n",
    "def softmax_activation(X, w):\n",
    "    z = net_input(X, w)\n",
    "    return softmax(z)\n",
    "\n",
    "y_probas = softmax(Z)\n",
    "print('Probabilities:\\n' , y_probas )\n",
    "print('y_probas.sum:', y_probas.sum())\n",
    "print('Z:\\n',Z)"
   ]
  },
  {
   "cell_type": "code",
   "execution_count": 16,
   "metadata": {
    "collapsed": false
   },
   "outputs": [
    {
     "name": "stdout",
     "output_type": "stream",
     "text": [
      "predicted class label: 2\n"
     ]
    }
   ],
   "source": [
    "y_class = np.argmax(Z, axis=0)\n",
    "print('predicted class label: %d' % y_class[0])"
   ]
  },
  {
   "cell_type": "code",
   "execution_count": 17,
   "metadata": {
    "collapsed": false
   },
   "outputs": [
    {
     "data": {
      "image/png": "[encoded data removed]",
      "text/plain": [
       "<matplotlib.figure.Figure at 0x10b62ce48>"
      ]
     },
     "metadata": {},
     "output_type": "display_data"
    }
   ],
   "source": [
    "import matplotlib.pyplot as plt\n",
    "\n",
    "def tanh(z):\n",
    "    e_p = np.exp(z)\n",
    "    e_m = np.exp(-z)\n",
    "    return (e_p - e_m) / (e_p + e_m)\n",
    "\n",
    "z = np.arange(-5, 5, 0.005)\n",
    "\n",
    "log_act = logistic(z)\n",
    "tanh_act = tanh(z)\n",
    "\n",
    "plt.ylim([-1.5,1.5])\n",
    "plt.xlabel('net input $z$')\n",
    "plt.ylabel('activation $\\phi(z)$')\n",
    "plt.axhline(1, color='black', linestyle='--')\n",
    "plt.axhline(0.5, color='black', linestyle='--')\n",
    "plt.axhline(0, color='black', linestyle='--')\n",
    "plt.axhline(-1, color='black', linestyle='--')\n",
    "plt.plot(z, tanh_act, linewidth=2, color='black', label='tanh')\n",
    "plt.plot(z, log_act, linewidth=2, color='lightgreen', label='logistic')\n",
    "plt.legend(loc='lower right')\n",
    "plt.show()"
   ]
  },
  {
   "cell_type": "code",
   "execution_count": null,
   "metadata": {
    "collapsed": true
   },
   "outputs": [],
   "source": []
  }
 ],
 "metadata": {
  "kernelspec": {
   "display_name": "Python 3",
   "language": "python",
   "name": "python3"
  },
  "language_info": {
   "codemirror_mode": {
    "name": "ipython",
    "version": 3
   },
   "file_extension": ".py",
   "mimetype": "text/x-python",
   "name": "python",
   "nbconvert_exporter": "python",
   "pygments_lexer": "ipython3",
   "version": "3.5.2"
  }
 },
 "nbformat": 4,
 "nbformat_minor": 1
}
