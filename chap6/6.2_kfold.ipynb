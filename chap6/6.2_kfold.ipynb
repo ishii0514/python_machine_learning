{
 "cells": [
  {
   "cell_type": "code",
   "execution_count": 8,
   "metadata": {
    "collapsed": true
   },
   "outputs": [],
   "source": [
    "# データ準備\n",
    "import pandas as pd\n",
    "df = pd.read_csv('./breast-cancer-wisconsin-data/data.csv',skiprows=1, header=None)\n",
    "from sklearn.preprocessing import LabelEncoder\n",
    "X = df.loc[:, 2:].values\n",
    "y = df.loc[:,1].values\n",
    "le = LabelEncoder()\n",
    "y = le.fit_transform(y)\n",
    "from sklearn.model_selection import train_test_split\n",
    "X_train,X_test,y_train, y_test = train_test_split(X, y , test_size=0.2, random_state=1)\n",
    "\n",
    "#パイプライン\n",
    "from sklearn.preprocessing import StandardScaler\n",
    "from sklearn.decomposition import PCA\n",
    "from sklearn.linear_model import LogisticRegression\n",
    "from sklearn.pipeline import Pipeline\n",
    "# パイプライン構築\n",
    "pipe_lr = Pipeline([('scl', StandardScaler()), ('pca', PCA(n_components=2)), ('clf', LogisticRegression(random_state=1))])"
   ]
  },
  {
   "cell_type": "code",
   "execution_count": 10,
   "metadata": {
    "collapsed": false,
    "scrolled": true
   },
   "outputs": [
    {
     "name": "stdout",
     "output_type": "stream",
     "text": [
      "Fold: 1, Class dist.: [256 153], ACC: 0.891\n",
      "Fold: 2, Class dist.: [256 153], ACC: 0.978\n",
      "Fold: 3, Class dist.: [256 153], ACC: 0.978\n",
      "Fold: 4, Class dist.: [256 153], ACC: 0.913\n",
      "Fold: 5, Class dist.: [256 153], ACC: 0.935\n",
      "Fold: 6, Class dist.: [257 153], ACC: 0.978\n",
      "Fold: 7, Class dist.: [257 153], ACC: 0.933\n",
      "Fold: 8, Class dist.: [257 153], ACC: 0.956\n",
      "Fold: 9, Class dist.: [257 153], ACC: 0.978\n",
      "Fold: 10, Class dist.: [257 153], ACC: 0.956\n",
      "CV accuracy: 0.950 +/- 0.029\n"
     ]
    }
   ],
   "source": [
    "import numpy as np\n",
    "from sklearn.cross_validation import StratifiedKFold\n",
    "#from sklearn.model_selection import StratifiedKFold\n",
    "\n",
    "kfold = StratifiedKFold(y=y_train,n_folds=10, random_state=1)\n",
    "\n",
    "scores = []\n",
    "for k ,(train, test) in enumerate(kfold):\n",
    "    pipe_lr.fit(X_train[train], y_train[train])\n",
    "    score = pipe_lr.score(X_train[test],y_train[test])\n",
    "    scores.append(score)\n",
    "    print('Fold: %s, Class dist.: %s, ACC: %.3f' %(k+1, np.bincount(y_train[train]), score) )\n",
    "\n",
    "print('CV accuracy: %.3f +/- %.3f' % (np.mean(scores), np.std(scores)))"
   ]
  },
  {
   "cell_type": "code",
   "execution_count": 13,
   "metadata": {
    "collapsed": false
   },
   "outputs": [
    {
     "name": "stdout",
     "output_type": "stream",
     "text": [
      "CV accuracy scores; [ 0.89130435  0.97826087  0.97826087  0.91304348  0.93478261  0.97777778\n",
      "  0.93333333  0.95555556  0.97777778  0.95555556]\n",
      "CV accuracy: 0.950 +/- 0.029\n"
     ]
    }
   ],
   "source": [
    "from sklearn.cross_validation import cross_val_score\n",
    "\n",
    "scores= cross_val_score(estimator=pipe_lr, X=X_train,y=y_train, cv=10, n_jobs=1)\n",
    "print('CV accuracy scores; %s' % scores)\n",
    "print('CV accuracy: %.3f +/- %.3f' % (np.mean(scores), np.std(scores)))"
   ]
  },
  {
   "cell_type": "code",
   "execution_count": null,
   "metadata": {
    "collapsed": true
   },
   "outputs": [],
   "source": []
  }
 ],
 "metadata": {
  "kernelspec": {
   "display_name": "Python 3",
   "language": "python",
   "name": "python3"
  },
  "language_info": {
   "codemirror_mode": {
    "name": "ipython",
    "version": 3
   },
   "file_extension": ".py",
   "mimetype": "text/x-python",
   "name": "python",
   "nbconvert_exporter": "python",
   "pygments_lexer": "ipython3",
   "version": "3.5.2"
  }
 },
 "nbformat": 4,
 "nbformat_minor": 1
}
