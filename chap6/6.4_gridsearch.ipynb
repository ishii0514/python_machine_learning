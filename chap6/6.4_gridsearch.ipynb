{
 "cells": [
  {
   "cell_type": "code",
   "execution_count": 1,
   "metadata": {
    "collapsed": true
   },
   "outputs": [],
   "source": [
    "# データ準備\n",
    "import pandas as pd\n",
    "df = pd.read_csv('./breast-cancer-wisconsin-data/data.csv',skiprows=1, header=None)\n",
    "from sklearn.preprocessing import LabelEncoder\n",
    "X = df.loc[:, 2:].values\n",
    "y = df.loc[:,1].values\n",
    "le = LabelEncoder()\n",
    "y = le.fit_transform(y)\n",
    "from sklearn.model_selection import train_test_split\n",
    "X_train,X_test,y_train, y_test = train_test_split(X, y , test_size=0.2, random_state=1)\n",
    "\n",
    "#パイプライン準備\n",
    "from sklearn.preprocessing import StandardScaler\n",
    "from sklearn.pipeline import Pipeline"
   ]
  },
  {
   "cell_type": "code",
   "execution_count": 11,
   "metadata": {
    "collapsed": false
   },
   "outputs": [
    {
     "name": "stdout",
     "output_type": "stream",
     "text": [
      "best score: 0.978021978022\n",
      "best params {'clf__kernel': 'linear', 'clf__C': 0.1}\n",
      "Test accuracy:0.965\n"
     ]
    }
   ],
   "source": [
    "from sklearn.model_selection import GridSearchCV\n",
    "from sklearn.svm import SVC\n",
    "\n",
    "pipe_svc = Pipeline([('scl',StandardScaler()), ('clf', SVC(random_state=1))])\n",
    "param_range=[0.0001,0.001,0.01,0.1,1.0,10.0,100.0,1000.0]\n",
    "param_grid=[{'clf__C':param_range,'clf__kernel':['linear']},\n",
    "            {'clf__C':param_range,'clf__gamma':param_range,'clf__kernel':['rbf']}]\n",
    "\n",
    "gs = GridSearchCV(estimator=pipe_svc, param_grid=param_grid,scoring='accuracy',cv=10, n_jobs=-1)\n",
    "gs = gs.fit(X_train,y_train)\n",
    "print('best score:',gs.best_score_)\n",
    "print('best params', gs.best_params_)\n",
    "#print('scores')\n",
    "#for params, mean_score, scores in gs.grid_scores_:\n",
    "#    print('%0.3f (+/-%0.3f) for %r' % (mean_score,scores.std(),params))\n",
    "#print(gs.cv_results_)\n",
    "\n",
    "# 最適なモデルを使って学習→テストデータで検証\n",
    "clf = gs.best_estimator_\n",
    "clf.fit(X_train,y_train)\n",
    "print('Test accuracy:%.3f' % clf.score(X_test,y_test))"
   ]
  },
  {
   "cell_type": "code",
   "execution_count": null,
   "metadata": {
    "collapsed": true
   },
   "outputs": [],
   "source": []
  }
 ],
 "metadata": {
  "kernelspec": {
   "display_name": "Python 3",
   "language": "python",
   "name": "python3"
  },
  "language_info": {
   "codemirror_mode": {
    "name": "ipython",
    "version": 3
   },
   "file_extension": ".py",
   "mimetype": "text/x-python",
   "name": "python",
   "nbconvert_exporter": "python",
   "pygments_lexer": "ipython3",
   "version": "3.5.2"
  }
 },
 "nbformat": 4,
 "nbformat_minor": 1
}
